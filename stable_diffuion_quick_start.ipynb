{
  "nbformat": 4,
  "nbformat_minor": 0,
  "metadata": {
    "colab": {
      "name": "stable-diffuion-quick-start.ipynb",
      "provenance": [],
      "authorship_tag": "ABX9TyPghBiDkVNFEd9MYenKWIsy",
      "include_colab_link": true
    },
    "kernelspec": {
      "name": "python3",
      "display_name": "Python 3"
    },
    "language_info": {
      "name": "python"
    }
  },
  "cells": [
    {
      "cell_type": "markdown",
      "metadata": {
        "id": "view-in-github",
        "colab_type": "text"
      },
      "source": [
        "<a href=\"https://colab.research.google.com/github/alumican/stable-diffusion/blob/main/stable_diffuion_quick_start.ipynb\" target=\"_parent\"><img src=\"https://colab.research.google.com/assets/colab-badge.svg\" alt=\"Open In Colab\"/></a>"
      ]
    },
    {
      "cell_type": "markdown",
      "source": [
        "[こちら](https://github.com/alumican/stable-diffusion/blob/main/stable_diffusion_quick_start.ipynb) に移動しました"
      ],
      "metadata": {
        "id": "MFKPll9vlccm"
      }
    }
  ]
}